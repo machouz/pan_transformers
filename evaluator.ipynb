{
 "cells": [
  {
   "cell_type": "code",
   "execution_count": 1,
   "id": "7204d17d",
   "metadata": {},
   "outputs": [],
   "source": [
    "import pandas as pd\n",
    "import numpy as np\n",
    "import matplotlib.pyplot as plt\n",
    "from sklearn.metrics import balanced_accuracy_score"
   ]
  },
  {
   "cell_type": "markdown",
   "id": "482fbb3e",
   "metadata": {},
   "source": [
    "# Read merged data"
   ]
  },
  {
   "cell_type": "code",
   "execution_count": 7,
   "id": "f96e5f02",
   "metadata": {},
   "outputs": [],
   "source": [
    "df = pd.read_csv(\n",
    "        '../summary/custom_hate.tsv',\n",
    "        sep=\"\\t\",\n",
    "    )"
   ]
  },
  {
   "cell_type": "code",
   "execution_count": 8,
   "id": "ce64a872",
   "metadata": {},
   "outputs": [
    {
     "data": {
      "text/html": [
       "<div>\n",
       "<style scoped>\n",
       "    .dataframe tbody tr th:only-of-type {\n",
       "        vertical-align: middle;\n",
       "    }\n",
       "\n",
       "    .dataframe tbody tr th {\n",
       "        vertical-align: top;\n",
       "    }\n",
       "\n",
       "    .dataframe thead th {\n",
       "        text-align: right;\n",
       "    }\n",
       "</style>\n",
       "<table border=\"1\" class=\"dataframe\">\n",
       "  <thead>\n",
       "    <tr style=\"text-align: right;\">\n",
       "      <th></th>\n",
       "      <th>id</th>\n",
       "      <th>label</th>\n",
       "      <th>text</th>\n",
       "      <th>gold</th>\n",
       "    </tr>\n",
       "  </thead>\n",
       "  <tbody>\n",
       "    <tr>\n",
       "      <th>0</th>\n",
       "      <td>0a3ce42bea89e2a92a28f685735e605e</td>\n",
       "      <td>0.525782</td>\n",
       "      <td>\"Hey Jamal (snickering uncontrollable) You wan...</td>\n",
       "      <td>1</td>\n",
       "    </tr>\n",
       "    <tr>\n",
       "      <th>1</th>\n",
       "      <td>0a3ce42bea89e2a92a28f685735e605e</td>\n",
       "      <td>0.428142</td>\n",
       "      <td>RT @user: Cotton coming out with a banger http</td>\n",
       "      <td>1</td>\n",
       "    </tr>\n",
       "    <tr>\n",
       "      <th>2</th>\n",
       "      <td>0a3ce42bea89e2a92a28f685735e605e</td>\n",
       "      <td>0.467099</td>\n",
       "      <td>This is meant to be sarcasm but it's a good po...</td>\n",
       "      <td>1</td>\n",
       "    </tr>\n",
       "    <tr>\n",
       "      <th>3</th>\n",
       "      <td>0a3ce42bea89e2a92a28f685735e605e</td>\n",
       "      <td>0.497869</td>\n",
       "      <td>Nick really just compared homosexuality to peo...</td>\n",
       "      <td>1</td>\n",
       "    </tr>\n",
       "    <tr>\n",
       "      <th>4</th>\n",
       "      <td>0a3ce42bea89e2a92a28f685735e605e</td>\n",
       "      <td>0.573109</td>\n",
       "      <td>PROTECT AMERICA FIRST! LET'S GO!!!!!!!! http</td>\n",
       "      <td>1</td>\n",
       "    </tr>\n",
       "    <tr>\n",
       "      <th>...</th>\n",
       "      <td>...</td>\n",
       "      <td>...</td>\n",
       "      <td>...</td>\n",
       "      <td>...</td>\n",
       "    </tr>\n",
       "    <tr>\n",
       "      <th>5995</th>\n",
       "      <td>5c8c5dde745f6b4d478f6fb619b24b95</td>\n",
       "      <td>0.440118</td>\n",
       "      <td>@user 😭😭😭 I’m tired lol</td>\n",
       "      <td>1</td>\n",
       "    </tr>\n",
       "    <tr>\n",
       "      <th>5996</th>\n",
       "      <td>5c8c5dde745f6b4d478f6fb619b24b95</td>\n",
       "      <td>0.557508</td>\n",
       "      <td>@user @user So you the wife http</td>\n",
       "      <td>1</td>\n",
       "    </tr>\n",
       "    <tr>\n",
       "      <th>5997</th>\n",
       "      <td>5c8c5dde745f6b4d478f6fb619b24b95</td>\n",
       "      <td>0.424961</td>\n",
       "      <td>RT @user: His girlfriend</td>\n",
       "      <td>1</td>\n",
       "    </tr>\n",
       "    <tr>\n",
       "      <th>5998</th>\n",
       "      <td>5c8c5dde745f6b4d478f6fb619b24b95</td>\n",
       "      <td>0.427122</td>\n",
       "      <td>RT @user: When is the vaccine to protect us fr...</td>\n",
       "      <td>1</td>\n",
       "    </tr>\n",
       "    <tr>\n",
       "      <th>5999</th>\n",
       "      <td>5c8c5dde745f6b4d478f6fb619b24b95</td>\n",
       "      <td>0.436801</td>\n",
       "      <td>I want to perm my leave out or get a texturize...</td>\n",
       "      <td>1</td>\n",
       "    </tr>\n",
       "  </tbody>\n",
       "</table>\n",
       "<p>6000 rows × 4 columns</p>\n",
       "</div>"
      ],
      "text/plain": [
       "                                    id     label  \\\n",
       "0     0a3ce42bea89e2a92a28f685735e605e  0.525782   \n",
       "1     0a3ce42bea89e2a92a28f685735e605e  0.428142   \n",
       "2     0a3ce42bea89e2a92a28f685735e605e  0.467099   \n",
       "3     0a3ce42bea89e2a92a28f685735e605e  0.497869   \n",
       "4     0a3ce42bea89e2a92a28f685735e605e  0.573109   \n",
       "...                                ...       ...   \n",
       "5995  5c8c5dde745f6b4d478f6fb619b24b95  0.440118   \n",
       "5996  5c8c5dde745f6b4d478f6fb619b24b95  0.557508   \n",
       "5997  5c8c5dde745f6b4d478f6fb619b24b95  0.424961   \n",
       "5998  5c8c5dde745f6b4d478f6fb619b24b95  0.427122   \n",
       "5999  5c8c5dde745f6b4d478f6fb619b24b95  0.436801   \n",
       "\n",
       "                                                   text  gold  \n",
       "0     \"Hey Jamal (snickering uncontrollable) You wan...     1  \n",
       "1        RT @user: Cotton coming out with a banger http     1  \n",
       "2     This is meant to be sarcasm but it's a good po...     1  \n",
       "3     Nick really just compared homosexuality to peo...     1  \n",
       "4          PROTECT AMERICA FIRST! LET'S GO!!!!!!!! http     1  \n",
       "...                                                 ...   ...  \n",
       "5995                            @user 😭😭😭 I’m tired lol     1  \n",
       "5996                   @user @user So you the wife http     1  \n",
       "5997                           RT @user: His girlfriend     1  \n",
       "5998  RT @user: When is the vaccine to protect us fr...     1  \n",
       "5999  I want to perm my leave out or get a texturize...     1  \n",
       "\n",
       "[6000 rows x 4 columns]"
      ]
     },
     "execution_count": 8,
     "metadata": {},
     "output_type": "execute_result"
    }
   ],
   "source": [
    "df"
   ]
  },
  {
   "cell_type": "code",
   "execution_count": 9,
   "id": "b327bea0",
   "metadata": {},
   "outputs": [],
   "source": [
    "msk = np.random.rand(len(df)) < 0.8"
   ]
  },
  {
   "cell_type": "code",
   "execution_count": 10,
   "id": "32ba19a7",
   "metadata": {},
   "outputs": [],
   "source": [
    "train = df[msk]\n",
    "test = df[~msk]"
   ]
  },
  {
   "cell_type": "markdown",
   "id": "a24aa1c3",
   "metadata": {},
   "source": [
    "# Mean"
   ]
  },
  {
   "cell_type": "code",
   "execution_count": 11,
   "id": "6a2a87f8",
   "metadata": {},
   "outputs": [
    {
     "name": "stdout",
     "output_type": "stream",
     "text": [
      "0.48905575184252403\n",
      "0.4817205368120088\n"
     ]
    }
   ],
   "source": [
    "print(train.loc[df['gold'] == 1]['label'].mean())\n",
    "print(train.loc[df['gold'] == 0]['label'].mean())"
   ]
  },
  {
   "cell_type": "code",
   "execution_count": 12,
   "id": "0d8369de",
   "metadata": {},
   "outputs": [],
   "source": [
    "data = train.copy()\n",
    "mean = (train.loc[df['gold'] == 1]['label'].mean() + train.loc[df['gold'] == 0]['label'].mean())/2\n",
    "datah = data.groupby(['id']).mean()\n",
    "msk = ((datah['label'] < mean))\n",
    "ids = datah.loc[msk].index.values"
   ]
  },
  {
   "cell_type": "code",
   "execution_count": 13,
   "id": "fa6d66d3",
   "metadata": {},
   "outputs": [
    {
     "name": "stderr",
     "output_type": "stream",
     "text": [
      "/home/dsi/uzanmoc/anaconda3/envs/pan_env/lib/python3.7/site-packages/ipykernel_launcher.py:2: SettingWithCopyWarning: \n",
      "A value is trying to be set on a copy of a slice from a DataFrame.\n",
      "Try using .loc[row_indexer,col_indexer] = value instead\n",
      "\n",
      "See the caveats in the documentation: https://pandas.pydata.org/pandas-docs/stable/user_guide/indexing.html#returning-a-view-versus-a-copy\n",
      "  \n",
      "/home/dsi/uzanmoc/anaconda3/envs/pan_env/lib/python3.7/site-packages/pandas/core/indexing.py:1765: SettingWithCopyWarning: \n",
      "A value is trying to be set on a copy of a slice from a DataFrame.\n",
      "Try using .loc[row_indexer,col_indexer] = value instead\n",
      "\n",
      "See the caveats in the documentation: https://pandas.pydata.org/pandas-docs/stable/user_guide/indexing.html#returning-a-view-versus-a-copy\n",
      "  isetter(loc, value)\n"
     ]
    },
    {
     "data": {
      "text/plain": [
       "0.5333333333333333"
      ]
     },
     "execution_count": 13,
     "metadata": {},
     "output_type": "execute_result"
    }
   ],
   "source": [
    "final = data.drop_duplicates(subset=['id']) \n",
    "final['predicted'] = 1\n",
    "for user_id in ids:\n",
    "    final.loc[final['id'] == user_id, 'predicted'] = 0\n",
    "\n",
    "\n",
    "balanced_accuracy_score(final.gold, final.predicted)"
   ]
  },
  {
   "cell_type": "markdown",
   "id": "5ec26261",
   "metadata": {},
   "source": [
    "# Median"
   ]
  },
  {
   "cell_type": "code",
   "execution_count": 28,
   "id": "a2e33560",
   "metadata": {},
   "outputs": [
    {
     "name": "stdout",
     "output_type": "stream",
     "text": [
      "0.47060665488243103\n",
      "0.46211017668247223\n"
     ]
    }
   ],
   "source": [
    "print(train.loc[df['gold'] == 1]['label'].median())\n",
    "print(train.loc[df['gold'] == 0]['label'].median())"
   ]
  },
  {
   "cell_type": "code",
   "execution_count": 29,
   "id": "17765db8",
   "metadata": {},
   "outputs": [],
   "source": [
    "data = train.copy()\n",
    "median = (train.loc[df['gold'] == 1]['label'].median() + train.loc[df['gold'] == 0]['label'].median())/2\n",
    "datah = data.groupby(['id']).median()\n",
    "msk = ((datah['label'] < median))\n",
    "ids = datah.loc[msk].index.values\n"
   ]
  },
  {
   "cell_type": "code",
   "execution_count": 30,
   "id": "8e6bb5b1",
   "metadata": {},
   "outputs": [
    {
     "name": "stderr",
     "output_type": "stream",
     "text": [
      "/home/dsi/uzanmoc/anaconda3/envs/pan_env/lib/python3.7/site-packages/ipykernel_launcher.py:2: SettingWithCopyWarning: \n",
      "A value is trying to be set on a copy of a slice from a DataFrame.\n",
      "Try using .loc[row_indexer,col_indexer] = value instead\n",
      "\n",
      "See the caveats in the documentation: https://pandas.pydata.org/pandas-docs/stable/user_guide/indexing.html#returning-a-view-versus-a-copy\n",
      "  \n",
      "/home/dsi/uzanmoc/anaconda3/envs/pan_env/lib/python3.7/site-packages/pandas/core/indexing.py:1765: SettingWithCopyWarning: \n",
      "A value is trying to be set on a copy of a slice from a DataFrame.\n",
      "Try using .loc[row_indexer,col_indexer] = value instead\n",
      "\n",
      "See the caveats in the documentation: https://pandas.pydata.org/pandas-docs/stable/user_guide/indexing.html#returning-a-view-versus-a-copy\n",
      "  isetter(loc, value)\n"
     ]
    },
    {
     "data": {
      "text/plain": [
       "0.5333333333333333"
      ]
     },
     "execution_count": 30,
     "metadata": {},
     "output_type": "execute_result"
    }
   ],
   "source": [
    "final = data.drop_duplicates(subset=['id']) \n",
    "final['predicted'] = 1\n",
    "for user_id in ids:\n",
    "    final.loc[final['id'] == user_id, 'predicted'] = 0\n",
    "\n",
    "\n",
    "balanced_accuracy_score(final.gold, final.predicted)"
   ]
  },
  {
   "cell_type": "code",
   "execution_count": 31,
   "id": "03634376",
   "metadata": {},
   "outputs": [
    {
     "name": "stderr",
     "output_type": "stream",
     "text": [
      "/home/dsi/uzanmoc/anaconda3/envs/pan_env/lib/python3.7/site-packages/ipykernel_launcher.py:2: SettingWithCopyWarning: \n",
      "A value is trying to be set on a copy of a slice from a DataFrame.\n",
      "Try using .loc[row_indexer,col_indexer] = value instead\n",
      "\n",
      "See the caveats in the documentation: https://pandas.pydata.org/pandas-docs/stable/user_guide/indexing.html#returning-a-view-versus-a-copy\n",
      "  \n",
      "/home/dsi/uzanmoc/anaconda3/envs/pan_env/lib/python3.7/site-packages/pandas/core/indexing.py:1765: SettingWithCopyWarning: \n",
      "A value is trying to be set on a copy of a slice from a DataFrame.\n",
      "Try using .loc[row_indexer,col_indexer] = value instead\n",
      "\n",
      "See the caveats in the documentation: https://pandas.pydata.org/pandas-docs/stable/user_guide/indexing.html#returning-a-view-versus-a-copy\n",
      "  isetter(loc, value)\n"
     ]
    },
    {
     "data": {
      "text/plain": [
       "0.5333333333333333"
      ]
     },
     "execution_count": 31,
     "metadata": {},
     "output_type": "execute_result"
    }
   ],
   "source": [
    "final = data.drop_duplicates(subset=['id']) \n",
    "final['predicted'] = 1\n",
    "for user_id in ids:\n",
    "    final.loc[final['id'] == user_id, 'predicted'] = 0\n",
    "\n",
    "\n",
    "balanced_accuracy_score(final.gold, final.predicted)"
   ]
  },
  {
   "cell_type": "markdown",
   "id": "99c320c1",
   "metadata": {},
   "source": [
    "# Quantile"
   ]
  },
  {
   "cell_type": "code",
   "execution_count": 18,
   "id": "ab893f9f",
   "metadata": {},
   "outputs": [],
   "source": [
    "bad = train.loc[train['gold'] == 1].groupby(['id'])\n",
    "good = train.loc[train['gold'] == 0].groupby(['id'])"
   ]
  },
  {
   "cell_type": "code",
   "execution_count": 19,
   "id": "43930fbb",
   "metadata": {},
   "outputs": [],
   "source": [
    "bq = bad.quantile(np.arange(0.0, 1.0, 0.01)).reset_index()\n",
    "gq = good.quantile(np.arange(0.0, 1.0, 0.01)).reset_index()"
   ]
  },
  {
   "cell_type": "code",
   "execution_count": 20,
   "id": "6937406e",
   "metadata": {},
   "outputs": [],
   "source": [
    "grouped_bq = bq.groupby(['level_1'])\n",
    "grouped_gq = gq.groupby(['level_1'])"
   ]
  },
  {
   "cell_type": "code",
   "execution_count": 21,
   "id": "47717dae",
   "metadata": {},
   "outputs": [],
   "source": [
    "ao = ((grouped_bq.mean() - grouped_gq.mean())\n",
    "                 * (grouped_bq.var() * grouped_gq.var()))['label'].idxmax()"
   ]
  },
  {
   "cell_type": "code",
   "execution_count": 22,
   "id": "7a8ce742",
   "metadata": {},
   "outputs": [
    {
     "name": "stdout",
     "output_type": "stream",
     "text": [
      "0.77 level_1\n",
      "0.77    0.525465\n",
      "Name: label, dtype: float64 level_1\n",
      "0.77    0.514353\n",
      "Name: label, dtype: float64\n"
     ]
    }
   ],
   "source": [
    "b = grouped_bq.mean()['label'][[ao]]\n",
    "c = grouped_gq.mean()['label'][[ao]]\n",
    "print(ao, b, c)"
   ]
  },
  {
   "cell_type": "code",
   "execution_count": 23,
   "id": "c84c5d4a",
   "metadata": {
    "scrolled": true
   },
   "outputs": [],
   "source": [
    "series = bad.quantile(ao)['label'].to_numpy()\n",
    "minO, _ = np.percentile(series, [5, 99])"
   ]
  },
  {
   "cell_type": "code",
   "execution_count": 24,
   "id": "1e496f08",
   "metadata": {},
   "outputs": [],
   "source": [
    "series = good.quantile(ao)['label'].to_numpy()\n",
    "_, maxO = np.percentile(series, [0, 95])"
   ]
  },
  {
   "cell_type": "code",
   "execution_count": 25,
   "id": "75d50a26",
   "metadata": {},
   "outputs": [],
   "source": [
    "data = train.copy()\n",
    "\n",
    "datao = data.groupby(['id']).quantile(ao)\n",
    "msk = ((datao['label'] < minO))\n",
    "ids = datao.loc[msk].index.values"
   ]
  },
  {
   "cell_type": "code",
   "execution_count": 27,
   "id": "d3602be1",
   "metadata": {},
   "outputs": [
    {
     "name": "stderr",
     "output_type": "stream",
     "text": [
      "/home/dsi/uzanmoc/anaconda3/envs/pan_env/lib/python3.7/site-packages/ipykernel_launcher.py:2: SettingWithCopyWarning: \n",
      "A value is trying to be set on a copy of a slice from a DataFrame.\n",
      "Try using .loc[row_indexer,col_indexer] = value instead\n",
      "\n",
      "See the caveats in the documentation: https://pandas.pydata.org/pandas-docs/stable/user_guide/indexing.html#returning-a-view-versus-a-copy\n",
      "  \n"
     ]
    },
    {
     "data": {
      "text/plain": [
       "0.5666666666666667"
      ]
     },
     "execution_count": 27,
     "metadata": {},
     "output_type": "execute_result"
    }
   ],
   "source": [
    "final = data.drop_duplicates(subset=['id']) \n",
    "final['predicted'] = 1\n",
    "for user_id in ids:\n",
    "    final.loc[final['id'] == user_id, 'predicted'] = 0\n",
    "\n",
    "\n",
    "balanced_accuracy_score(final.gold, final.predicted)"
   ]
  },
  {
   "cell_type": "code",
   "execution_count": null,
   "id": "0838499b",
   "metadata": {},
   "outputs": [],
   "source": []
  }
 ],
 "metadata": {
  "kernelspec": {
   "display_name": "Python 3.7.10 64-bit ('pan_env': conda)",
   "language": "python",
   "name": "python3710jvsc74a57bd051681bb12e6265a85baeccdf5b855c607ed1fa6dff84b33364dad22ba98594cd"
  },
  "language_info": {
   "codemirror_mode": {
    "name": "ipython",
    "version": 3
   },
   "file_extension": ".py",
   "mimetype": "text/x-python",
   "name": "python",
   "nbconvert_exporter": "python",
   "pygments_lexer": "ipython3",
   "version": "3.7.10"
  },
  "metadata": {
   "interpreter": {
    "hash": "51681bb12e6265a85baeccdf5b855c607ed1fa6dff84b33364dad22ba98594cd"
   }
  }
 },
 "nbformat": 4,
 "nbformat_minor": 5
}
