{
 "cells": [
  {
   "cell_type": "code",
   "execution_count": 1,
   "id": "7204d17d",
   "metadata": {},
   "outputs": [],
   "source": [
    "import pandas as pd\n",
    "import numpy as np\n",
    "import matplotlib.pyplot as plt\n",
    "from sklearn.metrics import balanced_accuracy_score"
   ]
  },
  {
   "cell_type": "markdown",
   "id": "482fbb3e",
   "metadata": {},
   "source": [
    "# Read merged data"
   ]
  },
  {
   "cell_type": "code",
   "execution_count": 2,
   "id": "f96e5f02",
   "metadata": {},
   "outputs": [],
   "source": [
    "df = pd.read_csv(\n",
    "        '../summary/,\n",
    "        sep=\"\\t\",\n",
    "    )"
   ]
  },
  {
   "cell_type": "code",
   "execution_count": 3,
   "id": "ce64a872",
   "metadata": {},
   "outputs": [
    {
     "data": {
      "text/html": [
       "<div>\n",
       "<style scoped>\n",
       "    .dataframe tbody tr th:only-of-type {\n",
       "        vertical-align: middle;\n",
       "    }\n",
       "\n",
       "    .dataframe tbody tr th {\n",
       "        vertical-align: top;\n",
       "    }\n",
       "\n",
       "    .dataframe thead th {\n",
       "        text-align: right;\n",
       "    }\n",
       "</style>\n",
       "<table border=\"1\" class=\"dataframe\">\n",
       "  <thead>\n",
       "    <tr style=\"text-align: right;\">\n",
       "      <th></th>\n",
       "      <th>tweet</th>\n",
       "      <th>offensive</th>\n",
       "      <th>hate</th>\n",
       "      <th>user_label</th>\n",
       "      <th>id</th>\n",
       "    </tr>\n",
       "  </thead>\n",
       "  <tbody>\n",
       "    <tr>\n",
       "      <th>0</th>\n",
       "      <td>I think I'm love</td>\n",
       "      <td>0.141699</td>\n",
       "      <td>0.032936</td>\n",
       "      <td>1</td>\n",
       "      <td>043e2766cc6d22ae4e447ca5f2885a2a</td>\n",
       "    </tr>\n",
       "    <tr>\n",
       "      <th>1</th>\n",
       "      <td>Trump awesome</td>\n",
       "      <td>0.266481</td>\n",
       "      <td>0.098291</td>\n",
       "      <td>1</td>\n",
       "      <td>043e2766cc6d22ae4e447ca5f2885a2a</td>\n",
       "    </tr>\n",
       "    <tr>\n",
       "      <th>2</th>\n",
       "      <td>You greatest tweets sweetheart</td>\n",
       "      <td>0.080006</td>\n",
       "      <td>0.040893</td>\n",
       "      <td>1</td>\n",
       "      <td>043e2766cc6d22ae4e447ca5f2885a2a</td>\n",
       "    </tr>\n",
       "    <tr>\n",
       "      <th>3</th>\n",
       "      <td>It's free pizza Hun free food</td>\n",
       "      <td>0.185781</td>\n",
       "      <td>0.056798</td>\n",
       "      <td>1</td>\n",
       "      <td>043e2766cc6d22ae4e447ca5f2885a2a</td>\n",
       "    </tr>\n",
       "    <tr>\n",
       "      <th>4</th>\n",
       "      <td>Love Joy</td>\n",
       "      <td>0.100934</td>\n",
       "      <td>0.039000</td>\n",
       "      <td>1</td>\n",
       "      <td>043e2766cc6d22ae4e447ca5f2885a2a</td>\n",
       "    </tr>\n",
       "    <tr>\n",
       "      <th>...</th>\n",
       "      <td>...</td>\n",
       "      <td>...</td>\n",
       "      <td>...</td>\n",
       "      <td>...</td>\n",
       "      <td>...</td>\n",
       "    </tr>\n",
       "    <tr>\n",
       "      <th>39720</th>\n",
       "      <td>I wanna love that’s 🙁☹️🤬</td>\n",
       "      <td>0.141833</td>\n",
       "      <td>0.014251</td>\n",
       "      <td>0</td>\n",
       "      <td>da28bc4cb0849abd43cc116509b3485c</td>\n",
       "    </tr>\n",
       "    <tr>\n",
       "      <th>39721</th>\n",
       "      <td>Shit navy black</td>\n",
       "      <td>0.759071</td>\n",
       "      <td>0.072687</td>\n",
       "      <td>0</td>\n",
       "      <td>da28bc4cb0849abd43cc116509b3485c</td>\n",
       "    </tr>\n",
       "    <tr>\n",
       "      <th>39722</th>\n",
       "      <td>I leave tomorrow</td>\n",
       "      <td>0.179567</td>\n",
       "      <td>0.069879</td>\n",
       "      <td>0</td>\n",
       "      <td>da28bc4cb0849abd43cc116509b3485c</td>\n",
       "    </tr>\n",
       "    <tr>\n",
       "      <th>39723</th>\n",
       "      <td>I missed</td>\n",
       "      <td>0.181552</td>\n",
       "      <td>0.052312</td>\n",
       "      <td>0</td>\n",
       "      <td>da28bc4cb0849abd43cc116509b3485c</td>\n",
       "    </tr>\n",
       "    <tr>\n",
       "      <th>39724</th>\n",
       "      <td>Some u hoes need inside ur thighs pressure was...</td>\n",
       "      <td>0.861879</td>\n",
       "      <td>0.877798</td>\n",
       "      <td>0</td>\n",
       "      <td>da28bc4cb0849abd43cc116509b3485c</td>\n",
       "    </tr>\n",
       "  </tbody>\n",
       "</table>\n",
       "<p>39725 rows × 5 columns</p>\n",
       "</div>"
      ],
      "text/plain": [
       "                                                   tweet  offensive      hate  \\\n",
       "0                                       I think I'm love   0.141699  0.032936   \n",
       "1                                          Trump awesome   0.266481  0.098291   \n",
       "2                         You greatest tweets sweetheart   0.080006  0.040893   \n",
       "3                          It's free pizza Hun free food   0.185781  0.056798   \n",
       "4                                               Love Joy   0.100934  0.039000   \n",
       "...                                                  ...        ...       ...   \n",
       "39720                           I wanna love that’s 🙁☹️🤬   0.141833  0.014251   \n",
       "39721                                    Shit navy black   0.759071  0.072687   \n",
       "39722                                   I leave tomorrow   0.179567  0.069879   \n",
       "39723                                           I missed   0.181552  0.052312   \n",
       "39724  Some u hoes need inside ur thighs pressure was...   0.861879  0.877798   \n",
       "\n",
       "       user_label                                id  \n",
       "0               1  043e2766cc6d22ae4e447ca5f2885a2a  \n",
       "1               1  043e2766cc6d22ae4e447ca5f2885a2a  \n",
       "2               1  043e2766cc6d22ae4e447ca5f2885a2a  \n",
       "3               1  043e2766cc6d22ae4e447ca5f2885a2a  \n",
       "4               1  043e2766cc6d22ae4e447ca5f2885a2a  \n",
       "...           ...                               ...  \n",
       "39720           0  da28bc4cb0849abd43cc116509b3485c  \n",
       "39721           0  da28bc4cb0849abd43cc116509b3485c  \n",
       "39722           0  da28bc4cb0849abd43cc116509b3485c  \n",
       "39723           0  da28bc4cb0849abd43cc116509b3485c  \n",
       "39724           0  da28bc4cb0849abd43cc116509b3485c  \n",
       "\n",
       "[39725 rows x 5 columns]"
      ]
     },
     "execution_count": 3,
     "metadata": {},
     "output_type": "execute_result"
    }
   ],
   "source": [
    "df"
   ]
  },
  {
   "cell_type": "code",
   "execution_count": 4,
   "id": "b327bea0",
   "metadata": {},
   "outputs": [],
   "source": [
    "msk = np.random.rand(len(df)) < 0.8"
   ]
  },
  {
   "cell_type": "code",
   "execution_count": 5,
   "id": "32ba19a7",
   "metadata": {},
   "outputs": [],
   "source": [
    "train = df[msk]\n",
    "test = df[~msk]"
   ]
  },
  {
   "cell_type": "markdown",
   "id": "a24aa1c3",
   "metadata": {},
   "source": [
    "# Mean"
   ]
  },
  {
   "cell_type": "code",
   "execution_count": 6,
   "id": "6a2a87f8",
   "metadata": {},
   "outputs": [
    {
     "name": "stdout",
     "output_type": "stream",
     "text": [
      "0.11752330223458297\n",
      "0.07802322794626143\n"
     ]
    }
   ],
   "source": [
    "print(train.loc[df['user_label'] == 1]['hate'].mean())\n",
    "print(train.loc[df['user_label'] == 0]['hate'].mean())"
   ]
  },
  {
   "cell_type": "code",
   "execution_count": 7,
   "id": "500e7aca",
   "metadata": {},
   "outputs": [
    {
     "name": "stdout",
     "output_type": "stream",
     "text": [
      "0.3487328515491094\n",
      "0.2834294919221808\n"
     ]
    }
   ],
   "source": [
    "print(train.loc[df['user_label'] == 1]['offensive'].mean())\n",
    "print(train.loc[df['user_label'] == 0]['offensive'].mean())"
   ]
  },
  {
   "cell_type": "markdown",
   "id": "ee2ed660",
   "metadata": {},
   "source": [
    "## Hate mean"
   ]
  },
  {
   "cell_type": "code",
   "execution_count": 8,
   "id": "0d8369de",
   "metadata": {},
   "outputs": [],
   "source": [
    "data = train.copy()\n",
    "mean = (train.loc[df['user_label'] == 1]['hate'].mean() + train.loc[df['user_label'] == 0]['hate'].mean())/2\n",
    "datah = data.groupby(['id']).mean()\n",
    "msk = ((datah['hate'] < mean))\n",
    "ids = datah.loc[msk].index.values"
   ]
  },
  {
   "cell_type": "code",
   "execution_count": 9,
   "id": "fa6d66d3",
   "metadata": {},
   "outputs": [
    {
     "name": "stderr",
     "output_type": "stream",
     "text": [
      "/home/dsi/uzanmoc/anaconda3/envs/pan_env/lib/python3.7/site-packages/ipykernel_launcher.py:2: SettingWithCopyWarning: \n",
      "A value is trying to be set on a copy of a slice from a DataFrame.\n",
      "Try using .loc[row_indexer,col_indexer] = value instead\n",
      "\n",
      "See the caveats in the documentation: https://pandas.pydata.org/pandas-docs/stable/user_guide/indexing.html#returning-a-view-versus-a-copy\n",
      "  \n",
      "/home/dsi/uzanmoc/anaconda3/envs/pan_env/lib/python3.7/site-packages/pandas/core/indexing.py:1765: SettingWithCopyWarning: \n",
      "A value is trying to be set on a copy of a slice from a DataFrame.\n",
      "Try using .loc[row_indexer,col_indexer] = value instead\n",
      "\n",
      "See the caveats in the documentation: https://pandas.pydata.org/pandas-docs/stable/user_guide/indexing.html#returning-a-view-versus-a-copy\n",
      "  isetter(loc, value)\n"
     ]
    },
    {
     "data": {
      "text/plain": [
       "0.6599999999999999"
      ]
     },
     "execution_count": 9,
     "metadata": {},
     "output_type": "execute_result"
    }
   ],
   "source": [
    "final = data.drop_duplicates(subset=['id']) \n",
    "final['predicted'] = 1\n",
    "for user_id in ids:\n",
    "    final.loc[final['id'] == user_id, 'predicted'] = 0\n",
    "\n",
    "\n",
    "balanced_accuracy_score(final.user_label, final.predicted)"
   ]
  },
  {
   "cell_type": "markdown",
   "id": "763cbf75",
   "metadata": {},
   "source": [
    "## Offensive mean"
   ]
  },
  {
   "cell_type": "code",
   "execution_count": 10,
   "id": "eac7869a",
   "metadata": {},
   "outputs": [],
   "source": [
    "data = train.copy()\n",
    "mean = (train.loc[df['user_label'] == 1]['offensive'].mean() + train.loc[df['user_label'] == 0]['offensive'].mean())/2\n",
    "datao = data.groupby(['id']).mean()\n",
    "msk = ((datao['offensive'] < mean))\n",
    "ids =  datao.loc[msk].index.values"
   ]
  },
  {
   "cell_type": "code",
   "execution_count": 11,
   "id": "fc0fd8c3",
   "metadata": {},
   "outputs": [
    {
     "name": "stderr",
     "output_type": "stream",
     "text": [
      "/home/dsi/uzanmoc/anaconda3/envs/pan_env/lib/python3.7/site-packages/ipykernel_launcher.py:2: SettingWithCopyWarning: \n",
      "A value is trying to be set on a copy of a slice from a DataFrame.\n",
      "Try using .loc[row_indexer,col_indexer] = value instead\n",
      "\n",
      "See the caveats in the documentation: https://pandas.pydata.org/pandas-docs/stable/user_guide/indexing.html#returning-a-view-versus-a-copy\n",
      "  \n",
      "/home/dsi/uzanmoc/anaconda3/envs/pan_env/lib/python3.7/site-packages/pandas/core/indexing.py:1765: SettingWithCopyWarning: \n",
      "A value is trying to be set on a copy of a slice from a DataFrame.\n",
      "Try using .loc[row_indexer,col_indexer] = value instead\n",
      "\n",
      "See the caveats in the documentation: https://pandas.pydata.org/pandas-docs/stable/user_guide/indexing.html#returning-a-view-versus-a-copy\n",
      "  isetter(loc, value)\n"
     ]
    },
    {
     "data": {
      "text/plain": [
       "0.615"
      ]
     },
     "execution_count": 11,
     "metadata": {},
     "output_type": "execute_result"
    }
   ],
   "source": [
    "final = data.drop_duplicates(subset=['id']) \n",
    "final['predicted'] = 1\n",
    "for user_id in ids:\n",
    "    final.loc[final['id'] == user_id, 'predicted'] = 0\n",
    "\n",
    "\n",
    "balanced_accuracy_score(final.user_label, final.predicted)"
   ]
  },
  {
   "cell_type": "markdown",
   "id": "7f13f88c",
   "metadata": {},
   "source": [
    "## Two means"
   ]
  },
  {
   "cell_type": "code",
   "execution_count": 12,
   "id": "06e18ba7",
   "metadata": {},
   "outputs": [],
   "source": [
    "data = train.copy()\n",
    "mean = (train.loc[df['user_label'] == 1]['hate'].mean() + train.loc[df['user_label'] == 0]['hate'].mean())/2\n",
    "datah = data.groupby(['id']).mean()\n",
    "msk = ((datah['hate'] < mean))\n",
    "ids = datah.loc[msk].index.values\n",
    "\n",
    "mean = (train.loc[df['user_label'] == 1]['offensive'].mean() + train.loc[df['user_label'] == 0]['offensive'].mean())/2\n",
    "\n",
    "datao = data.groupby(['id']).mean()\n",
    "msk = ((datao['offensive'] < mean))\n",
    "ids = np.concatenate((ids, datao.loc[msk].index.values))"
   ]
  },
  {
   "cell_type": "code",
   "execution_count": 13,
   "id": "da0defee",
   "metadata": {},
   "outputs": [
    {
     "name": "stderr",
     "output_type": "stream",
     "text": [
      "/home/dsi/uzanmoc/anaconda3/envs/pan_env/lib/python3.7/site-packages/ipykernel_launcher.py:2: SettingWithCopyWarning: \n",
      "A value is trying to be set on a copy of a slice from a DataFrame.\n",
      "Try using .loc[row_indexer,col_indexer] = value instead\n",
      "\n",
      "See the caveats in the documentation: https://pandas.pydata.org/pandas-docs/stable/user_guide/indexing.html#returning-a-view-versus-a-copy\n",
      "  \n",
      "/home/dsi/uzanmoc/anaconda3/envs/pan_env/lib/python3.7/site-packages/pandas/core/indexing.py:1765: SettingWithCopyWarning: \n",
      "A value is trying to be set on a copy of a slice from a DataFrame.\n",
      "Try using .loc[row_indexer,col_indexer] = value instead\n",
      "\n",
      "See the caveats in the documentation: https://pandas.pydata.org/pandas-docs/stable/user_guide/indexing.html#returning-a-view-versus-a-copy\n",
      "  isetter(loc, value)\n"
     ]
    },
    {
     "data": {
      "text/plain": [
       "0.63"
      ]
     },
     "execution_count": 13,
     "metadata": {},
     "output_type": "execute_result"
    }
   ],
   "source": [
    "final = data.drop_duplicates(subset=['id']) \n",
    "final['predicted'] = 1\n",
    "for user_id in ids:\n",
    "    final.loc[final['id'] == user_id, 'predicted'] = 0\n",
    "\n",
    "\n",
    "balanced_accuracy_score(final.user_label, final.predicted)"
   ]
  },
  {
   "cell_type": "markdown",
   "id": "5ec26261",
   "metadata": {},
   "source": [
    "# Median"
   ]
  },
  {
   "cell_type": "code",
   "execution_count": 14,
   "id": "a2e33560",
   "metadata": {},
   "outputs": [
    {
     "name": "stdout",
     "output_type": "stream",
     "text": [
      "0.057445984333753586\n",
      "0.0459304079413414\n"
     ]
    }
   ],
   "source": [
    "print(train.loc[df['user_label'] == 1]['hate'].median())\n",
    "print(train.loc[df['user_label'] == 0]['hate'].median())"
   ]
  },
  {
   "cell_type": "code",
   "execution_count": 15,
   "id": "327ee94d",
   "metadata": {},
   "outputs": [
    {
     "name": "stdout",
     "output_type": "stream",
     "text": [
      "0.2559872567653656\n",
      "0.20313863456249237\n"
     ]
    }
   ],
   "source": [
    "print(train.loc[df['user_label'] == 1]['offensive'].median())\n",
    "print(train.loc[df['user_label'] == 0]['offensive'].median())"
   ]
  },
  {
   "cell_type": "markdown",
   "id": "ec783770",
   "metadata": {},
   "source": [
    "## Hate median"
   ]
  },
  {
   "cell_type": "code",
   "execution_count": 16,
   "id": "17765db8",
   "metadata": {},
   "outputs": [],
   "source": [
    "data = train.copy()\n",
    "median = (train.loc[df['user_label'] == 1]['hate'].median() + train.loc[df['user_label'] == 0]['hate'].median())/2\n",
    "datah = data.groupby(['id']).median()\n",
    "msk = ((datah['hate'] < median))\n",
    "ids = datah.loc[msk].index.values\n"
   ]
  },
  {
   "cell_type": "code",
   "execution_count": 17,
   "id": "8e6bb5b1",
   "metadata": {},
   "outputs": [
    {
     "name": "stderr",
     "output_type": "stream",
     "text": [
      "/home/dsi/uzanmoc/anaconda3/envs/pan_env/lib/python3.7/site-packages/ipykernel_launcher.py:2: SettingWithCopyWarning: \n",
      "A value is trying to be set on a copy of a slice from a DataFrame.\n",
      "Try using .loc[row_indexer,col_indexer] = value instead\n",
      "\n",
      "See the caveats in the documentation: https://pandas.pydata.org/pandas-docs/stable/user_guide/indexing.html#returning-a-view-versus-a-copy\n",
      "  \n",
      "/home/dsi/uzanmoc/anaconda3/envs/pan_env/lib/python3.7/site-packages/pandas/core/indexing.py:1765: SettingWithCopyWarning: \n",
      "A value is trying to be set on a copy of a slice from a DataFrame.\n",
      "Try using .loc[row_indexer,col_indexer] = value instead\n",
      "\n",
      "See the caveats in the documentation: https://pandas.pydata.org/pandas-docs/stable/user_guide/indexing.html#returning-a-view-versus-a-copy\n",
      "  isetter(loc, value)\n"
     ]
    },
    {
     "data": {
      "text/plain": [
       "0.675"
      ]
     },
     "execution_count": 17,
     "metadata": {},
     "output_type": "execute_result"
    }
   ],
   "source": [
    "final = data.drop_duplicates(subset=['id']) \n",
    "final['predicted'] = 1\n",
    "for user_id in ids:\n",
    "    final.loc[final['id'] == user_id, 'predicted'] = 0\n",
    "\n",
    "\n",
    "balanced_accuracy_score(final.user_label, final.predicted)"
   ]
  },
  {
   "cell_type": "markdown",
   "id": "1747897c",
   "metadata": {},
   "source": [
    "## Offensive median"
   ]
  },
  {
   "cell_type": "code",
   "execution_count": 18,
   "id": "8876c628",
   "metadata": {},
   "outputs": [],
   "source": [
    "data = train.copy()\n",
    "median = (train.loc[df['user_label'] == 1]['offensive'].median() + train.loc[df['user_label'] == 0]['offensive'].median())/2\n",
    "\n",
    "datao = data.groupby(['id']).median()\n",
    "msk = ((datao['offensive'] < median))\n",
    "ids = datao.loc[msk].index.values\n"
   ]
  },
  {
   "cell_type": "code",
   "execution_count": 19,
   "id": "328c4ebe",
   "metadata": {},
   "outputs": [
    {
     "name": "stderr",
     "output_type": "stream",
     "text": [
      "/home/dsi/uzanmoc/anaconda3/envs/pan_env/lib/python3.7/site-packages/ipykernel_launcher.py:2: SettingWithCopyWarning: \n",
      "A value is trying to be set on a copy of a slice from a DataFrame.\n",
      "Try using .loc[row_indexer,col_indexer] = value instead\n",
      "\n",
      "See the caveats in the documentation: https://pandas.pydata.org/pandas-docs/stable/user_guide/indexing.html#returning-a-view-versus-a-copy\n",
      "  \n",
      "/home/dsi/uzanmoc/anaconda3/envs/pan_env/lib/python3.7/site-packages/pandas/core/indexing.py:1765: SettingWithCopyWarning: \n",
      "A value is trying to be set on a copy of a slice from a DataFrame.\n",
      "Try using .loc[row_indexer,col_indexer] = value instead\n",
      "\n",
      "See the caveats in the documentation: https://pandas.pydata.org/pandas-docs/stable/user_guide/indexing.html#returning-a-view-versus-a-copy\n",
      "  isetter(loc, value)\n"
     ]
    },
    {
     "data": {
      "text/plain": [
       "0.615"
      ]
     },
     "execution_count": 19,
     "metadata": {},
     "output_type": "execute_result"
    }
   ],
   "source": [
    "final = data.drop_duplicates(subset=['id']) \n",
    "final['predicted'] = 1\n",
    "for user_id in ids:\n",
    "    final.loc[final['id'] == user_id, 'predicted'] = 0\n",
    "\n",
    "\n",
    "balanced_accuracy_score(final.user_label, final.predicted)"
   ]
  },
  {
   "cell_type": "markdown",
   "id": "953b702b",
   "metadata": {},
   "source": [
    "## Two median"
   ]
  },
  {
   "cell_type": "code",
   "execution_count": 20,
   "id": "50670ae2",
   "metadata": {},
   "outputs": [],
   "source": [
    "data = train.copy()\n",
    "median = (train.loc[df['user_label'] == 1]['hate'].median() + train.loc[df['user_label'] == 0]['hate'].median())/2\n",
    "datah = data.groupby(['id']).median()\n",
    "msk = ((datah['hate'] < median))\n",
    "ids = datah.loc[msk].index.values\n",
    "\n",
    "median = (train.loc[df['user_label'] == 1]['offensive'].median() + train.loc[df['user_label'] == 0]['offensive'].median())/2\n",
    "\n",
    "datao = data.groupby(['id']).median()\n",
    "msk = ((datao['offensive'] < median))\n",
    "ids = np.concatenate((ids, datao.loc[msk].index.values))\n"
   ]
  },
  {
   "cell_type": "code",
   "execution_count": 21,
   "id": "03634376",
   "metadata": {},
   "outputs": [
    {
     "name": "stderr",
     "output_type": "stream",
     "text": [
      "/home/dsi/uzanmoc/anaconda3/envs/pan_env/lib/python3.7/site-packages/ipykernel_launcher.py:2: SettingWithCopyWarning: \n",
      "A value is trying to be set on a copy of a slice from a DataFrame.\n",
      "Try using .loc[row_indexer,col_indexer] = value instead\n",
      "\n",
      "See the caveats in the documentation: https://pandas.pydata.org/pandas-docs/stable/user_guide/indexing.html#returning-a-view-versus-a-copy\n",
      "  \n",
      "/home/dsi/uzanmoc/anaconda3/envs/pan_env/lib/python3.7/site-packages/pandas/core/indexing.py:1765: SettingWithCopyWarning: \n",
      "A value is trying to be set on a copy of a slice from a DataFrame.\n",
      "Try using .loc[row_indexer,col_indexer] = value instead\n",
      "\n",
      "See the caveats in the documentation: https://pandas.pydata.org/pandas-docs/stable/user_guide/indexing.html#returning-a-view-versus-a-copy\n",
      "  isetter(loc, value)\n"
     ]
    },
    {
     "data": {
      "text/plain": [
       "0.675"
      ]
     },
     "execution_count": 21,
     "metadata": {},
     "output_type": "execute_result"
    }
   ],
   "source": [
    "final = data.drop_duplicates(subset=['id']) \n",
    "final['predicted'] = 1\n",
    "for user_id in ids:\n",
    "    final.loc[final['id'] == user_id, 'predicted'] = 0\n",
    "\n",
    "\n",
    "balanced_accuracy_score(final.user_label, final.predicted)"
   ]
  },
  {
   "cell_type": "markdown",
   "id": "99c320c1",
   "metadata": {},
   "source": [
    "# Quantile"
   ]
  },
  {
   "cell_type": "code",
   "execution_count": 22,
   "id": "ab893f9f",
   "metadata": {},
   "outputs": [],
   "source": [
    "bad = train.loc[train['user_label'] == 1].groupby(['id'])\n",
    "good = train.loc[train['user_label'] == 0].groupby(['id'])"
   ]
  },
  {
   "cell_type": "code",
   "execution_count": 23,
   "id": "43930fbb",
   "metadata": {},
   "outputs": [],
   "source": [
    "bq = bad.quantile(np.arange(0.0, 1.0, 0.01)).reset_index()\n",
    "gq = good.quantile(np.arange(0.0, 1.0, 0.01)).reset_index()"
   ]
  },
  {
   "cell_type": "code",
   "execution_count": 24,
   "id": "6937406e",
   "metadata": {},
   "outputs": [],
   "source": [
    "grouped_bq = bq.groupby(['level_1'])\n",
    "grouped_gq = gq.groupby(['level_1'])"
   ]
  },
  {
   "cell_type": "markdown",
   "id": "c2c1a93d",
   "metadata": {},
   "source": [
    "## Get best quantile for offensive features"
   ]
  },
  {
   "cell_type": "code",
   "execution_count": 25,
   "id": "47717dae",
   "metadata": {},
   "outputs": [],
   "source": [
    "ao = ((grouped_bq.mean() - grouped_gq.mean())\n",
    "                 * (grouped_bq.var() * grouped_gq.var()))['offensive'].idxmax()"
   ]
  },
  {
   "cell_type": "code",
   "execution_count": 26,
   "id": "7a8ce742",
   "metadata": {},
   "outputs": [
    {
     "name": "stdout",
     "output_type": "stream",
     "text": [
      "0.84 level_1\n",
      "0.84    0.617827\n",
      "Name: offensive, dtype: float64 level_1\n",
      "0.84    0.493654\n",
      "Name: offensive, dtype: float64\n"
     ]
    }
   ],
   "source": [
    "b = grouped_bq.mean()['offensive'][[ao]]\n",
    "c = grouped_gq.mean()['offensive'][[ao]]\n",
    "print(ao, b, c)"
   ]
  },
  {
   "cell_type": "code",
   "execution_count": 27,
   "id": "c84c5d4a",
   "metadata": {
    "scrolled": true
   },
   "outputs": [],
   "source": [
    "series = bad.quantile(ao)['offensive'].to_numpy()\n",
    "minO, _ = np.percentile(series, [5, 99])"
   ]
  },
  {
   "cell_type": "code",
   "execution_count": 28,
   "id": "1e496f08",
   "metadata": {},
   "outputs": [],
   "source": [
    "series = good.quantile(ao)['offensive'].to_numpy()\n",
    "_, maxO = np.percentile(series, [0, 95])"
   ]
  },
  {
   "cell_type": "code",
   "execution_count": 29,
   "id": "75d50a26",
   "metadata": {},
   "outputs": [],
   "source": [
    "data = train.copy()\n",
    "\n",
    "datao = data.groupby(['id']).quantile(ao)\n",
    "msk = ((datao['offensive'] < minO))\n",
    "ids = datao.loc[msk].index.values"
   ]
  },
  {
   "cell_type": "code",
   "execution_count": 30,
   "id": "d3602be1",
   "metadata": {},
   "outputs": [
    {
     "name": "stderr",
     "output_type": "stream",
     "text": [
      "/home/dsi/uzanmoc/anaconda3/envs/pan_env/lib/python3.7/site-packages/ipykernel_launcher.py:2: SettingWithCopyWarning: \n",
      "A value is trying to be set on a copy of a slice from a DataFrame.\n",
      "Try using .loc[row_indexer,col_indexer] = value instead\n",
      "\n",
      "See the caveats in the documentation: https://pandas.pydata.org/pandas-docs/stable/user_guide/indexing.html#returning-a-view-versus-a-copy\n",
      "  \n",
      "/home/dsi/uzanmoc/anaconda3/envs/pan_env/lib/python3.7/site-packages/pandas/core/indexing.py:1765: SettingWithCopyWarning: \n",
      "A value is trying to be set on a copy of a slice from a DataFrame.\n",
      "Try using .loc[row_indexer,col_indexer] = value instead\n",
      "\n",
      "See the caveats in the documentation: https://pandas.pydata.org/pandas-docs/stable/user_guide/indexing.html#returning-a-view-versus-a-copy\n",
      "  isetter(loc, value)\n"
     ]
    },
    {
     "data": {
      "text/plain": [
       "0.585"
      ]
     },
     "execution_count": 30,
     "metadata": {},
     "output_type": "execute_result"
    }
   ],
   "source": [
    "final = data.drop_duplicates(subset=['id']) \n",
    "final['predicted'] = 1\n",
    "for user_id in ids:\n",
    "    final.loc[final['id'] == user_id, 'predicted'] = 0\n",
    "\n",
    "\n",
    "balanced_accuracy_score(final.user_label, final.predicted)"
   ]
  },
  {
   "cell_type": "markdown",
   "id": "69cf0be7",
   "metadata": {},
   "source": [
    "## Get best quantile for hate features"
   ]
  },
  {
   "cell_type": "code",
   "execution_count": 31,
   "id": "c6ff1df0",
   "metadata": {},
   "outputs": [],
   "source": [
    "ah = ((grouped_bq.mean() - grouped_gq.mean())\n",
    "                 * (grouped_bq.var() * grouped_gq.var()))['hate'].idxmax()"
   ]
  },
  {
   "cell_type": "code",
   "execution_count": 32,
   "id": "fc380876",
   "metadata": {},
   "outputs": [
    {
     "name": "stdout",
     "output_type": "stream",
     "text": [
      "0.98 level_1\n",
      "0.98    0.59972\n",
      "Name: hate, dtype: float64 level_1\n",
      "0.98    0.402376\n",
      "Name: hate, dtype: float64\n"
     ]
    }
   ],
   "source": [
    "b = grouped_bq.mean()['hate'][[ah]]\n",
    "c = grouped_gq.mean()['hate'][[ah]]\n",
    "print(ah, b, c)"
   ]
  },
  {
   "cell_type": "code",
   "execution_count": 33,
   "id": "e1eed783",
   "metadata": {},
   "outputs": [],
   "source": [
    "series = bad.quantile(ah)['hate'].to_numpy()\n",
    "minH, _  = np.percentile(series, [5, 99])"
   ]
  },
  {
   "cell_type": "code",
   "execution_count": 34,
   "id": "a67bd06b",
   "metadata": {},
   "outputs": [],
   "source": [
    "series = good.quantile(ah)['hate'].to_numpy()\n",
    "_, maxH = np.percentile(series, [0, 95])"
   ]
  },
  {
   "cell_type": "code",
   "execution_count": 35,
   "id": "f2258793",
   "metadata": {},
   "outputs": [],
   "source": [
    "data = train.copy()\n",
    "datah = data.groupby(['id']).quantile(ah)\n",
    "msk = ((datah['hate'] < minH))\n",
    "ids = datah.loc[msk].index.values"
   ]
  },
  {
   "cell_type": "code",
   "execution_count": 36,
   "id": "29dad286",
   "metadata": {},
   "outputs": [
    {
     "name": "stderr",
     "output_type": "stream",
     "text": [
      "/home/dsi/uzanmoc/anaconda3/envs/pan_env/lib/python3.7/site-packages/ipykernel_launcher.py:2: SettingWithCopyWarning: \n",
      "A value is trying to be set on a copy of a slice from a DataFrame.\n",
      "Try using .loc[row_indexer,col_indexer] = value instead\n",
      "\n",
      "See the caveats in the documentation: https://pandas.pydata.org/pandas-docs/stable/user_guide/indexing.html#returning-a-view-versus-a-copy\n",
      "  \n",
      "/home/dsi/uzanmoc/anaconda3/envs/pan_env/lib/python3.7/site-packages/pandas/core/indexing.py:1765: SettingWithCopyWarning: \n",
      "A value is trying to be set on a copy of a slice from a DataFrame.\n",
      "Try using .loc[row_indexer,col_indexer] = value instead\n",
      "\n",
      "See the caveats in the documentation: https://pandas.pydata.org/pandas-docs/stable/user_guide/indexing.html#returning-a-view-versus-a-copy\n",
      "  isetter(loc, value)\n"
     ]
    },
    {
     "data": {
      "text/plain": [
       "0.6499999999999999"
      ]
     },
     "execution_count": 36,
     "metadata": {},
     "output_type": "execute_result"
    }
   ],
   "source": [
    "final = data.drop_duplicates(subset=['id']) \n",
    "final['predicted'] = 1\n",
    "for user_id in ids:\n",
    "    final.loc[final['id'] == user_id, 'predicted'] = 0\n",
    "\n",
    "\n",
    "balanced_accuracy_score(final.user_label, final.predicted)"
   ]
  },
  {
   "cell_type": "markdown",
   "id": "2827d46c",
   "metadata": {},
   "source": [
    "## Use the two quantile"
   ]
  },
  {
   "cell_type": "code",
   "execution_count": 37,
   "id": "0a949c35",
   "metadata": {},
   "outputs": [],
   "source": [
    "data = train.copy()\n",
    "datah = data.groupby(['id']).quantile(ah)\n",
    "msk = ((datah['hate'] < minH))\n",
    "ids = datah.loc[msk].index.values\n",
    "\n",
    "datao = data.groupby(['id']).quantile(ao)\n",
    "msk = ((datao['offensive'] < minO))\n",
    "ids = np.concatenate((ids, datao.loc[msk].index.values))"
   ]
  },
  {
   "cell_type": "code",
   "execution_count": 38,
   "id": "dfc240f0",
   "metadata": {},
   "outputs": [
    {
     "name": "stderr",
     "output_type": "stream",
     "text": [
      "/home/dsi/uzanmoc/anaconda3/envs/pan_env/lib/python3.7/site-packages/ipykernel_launcher.py:2: SettingWithCopyWarning: \n",
      "A value is trying to be set on a copy of a slice from a DataFrame.\n",
      "Try using .loc[row_indexer,col_indexer] = value instead\n",
      "\n",
      "See the caveats in the documentation: https://pandas.pydata.org/pandas-docs/stable/user_guide/indexing.html#returning-a-view-versus-a-copy\n",
      "  \n",
      "/home/dsi/uzanmoc/anaconda3/envs/pan_env/lib/python3.7/site-packages/pandas/core/indexing.py:1765: SettingWithCopyWarning: \n",
      "A value is trying to be set on a copy of a slice from a DataFrame.\n",
      "Try using .loc[row_indexer,col_indexer] = value instead\n",
      "\n",
      "See the caveats in the documentation: https://pandas.pydata.org/pandas-docs/stable/user_guide/indexing.html#returning-a-view-versus-a-copy\n",
      "  isetter(loc, value)\n"
     ]
    },
    {
     "data": {
      "text/plain": [
       "0.645"
      ]
     },
     "execution_count": 38,
     "metadata": {},
     "output_type": "execute_result"
    }
   ],
   "source": [
    "final = data.drop_duplicates(subset=['id']) \n",
    "final['predicted'] = 1\n",
    "for user_id in ids:\n",
    "    final.loc[final['id'] == user_id, 'predicted'] = 0\n",
    "\n",
    "\n",
    "balanced_accuracy_score(final.user_label, final.predicted)"
   ]
  }
 ],
 "metadata": {
  "kernelspec": {
   "name": "python3710jvsc74a57bd051681bb12e6265a85baeccdf5b855c607ed1fa6dff84b33364dad22ba98594cd",
   "display_name": "Python 3.7  ('pan_env': conda)"
  },
  "language_info": {
   "codemirror_mode": {
    "name": "ipython",
    "version": 3
   },
   "file_extension": ".py",
   "mimetype": "text/x-python",
   "name": "python",
   "nbconvert_exporter": "python",
   "pygments_lexer": "ipython3",
   "version": "3.7"
  },
  "metadata": {
   "interpreter": {
    "hash": "51681bb12e6265a85baeccdf5b855c607ed1fa6dff84b33364dad22ba98594cd"
   }
  }
 },
 "nbformat": 4,
 "nbformat_minor": 5
}